{
 "cells": [
  {
   "cell_type": "markdown",
   "metadata": {
    "slideshow": {
     "slide_type": "slide"
    }
   },
   "source": [
    "# Idris for success"
   ]
  },
  {
   "cell_type": "markdown",
   "metadata": {
    "slideshow": {
     "slide_type": "slide"
    }
   },
   "source": [
    "## Static languages\n",
    "- Overhead/cost of explicit type management\n",
    "- Safety of typechecking\n",
    "\n",
    "## Dynamic languages\n",
    "- Little facility for type management\n",
    "- Compensate through practices, testing"
   ]
  },
  {
   "cell_type": "code",
   "execution_count": 2,
   "metadata": {
    "slideshow": {
     "slide_type": "slide"
    }
   },
   "outputs": [
    {
     "data": {
      "text/plain": [
       "defined \u001b[32mfunction \u001b[36msum\u001b[0m"
      ]
     },
     "metadata": {},
     "output_type": "display_data"
    }
   ],
   "source": [
    "def sum(xs: Seq[Int]): Int = xs.head + sum(xs.tail)"
   ]
  },
  {
   "cell_type": "code",
   "execution_count": 3,
   "metadata": {
    "slideshow": {
     "slide_type": "fragment"
    }
   },
   "outputs": [
    {
     "data": {
      "text/plain": [
       "\u001b[36mbody\u001b[0m: \u001b[32mSeq\u001b[0m[\u001b[32mInt\u001b[0m] = \u001b[33mList\u001b[0m(\u001b[32m1\u001b[0m, \u001b[32m2\u001b[0m, \u001b[32m3\u001b[0m)"
      ]
     },
     "metadata": {},
     "output_type": "display_data"
    }
   ],
   "source": [
    "val body = Seq(1, 2, 3)"
   ]
  },
  {
   "cell_type": "code",
   "execution_count": 4,
   "metadata": {
    "slideshow": {
     "slide_type": "fragment"
    }
   },
   "outputs": [
    {
     "ename": "",
     "evalue": "",
     "output_type": "error",
     "traceback": [
      "java.util.NoSuchElementException: head of empty list (head of empty list)",
      "  scala.collection.immutable.Nil$.head(List.scala:420)",
      "  scala.collection.immutable.Nil$.head(List.scala:417)",
      "  cmd1$$user.sum(Main.scala:24)",
      "  cmd1$$user.sum(Main.scala:24)",
      "  cmd1$$user.sum(Main.scala:24)",
      "  cmd1$$user.sum(Main.scala:24)",
      "  cmd3$$user$$anonfun$1.apply$mcI$sp(Main.scala:27)"
     ]
    }
   ],
   "source": [
    "sum(body)"
   ]
  },
  {
   "cell_type": "code",
   "execution_count": 5,
   "metadata": {
    "slideshow": {
     "slide_type": "fragment"
    }
   },
   "outputs": [
    {
     "ename": "",
     "evalue": "",
     "output_type": "error",
     "traceback": [
      "java.lang.IndexOutOfBoundsException: 3 (3)",
      "  scala.collection.LinearSeqOptimized$class.apply(LinearSeqOptimized.scala:65)",
      "  scala.collection.immutable.List.apply(List.scala:84)",
      "  cmd4$$user$$anonfun$1.apply$mcI$sp(Main.scala:25)"
     ]
    }
   ],
   "source": [
    "body(3)"
   ]
  }
 ],
 "metadata": {
  "celltoolbar": "Slideshow",
  "kernelspec": {
   "display_name": "Scala 2.11",
   "language": "scala211",
   "name": "scala211"
  },
  "language_info": {
   "codemirror_mode": "text/x-scala",
   "file_extension": ".scala",
   "mimetype": "text/x-scala",
   "name": "scala211",
   "pygments_lexer": "scala",
   "version": "2.11.7"
  }
 },
 "nbformat": 4,
 "nbformat_minor": 1
}
